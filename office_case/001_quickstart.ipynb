{
 "cells": [
  {
   "cell_type": "code",
   "execution_count": null,
   "metadata": {},
   "outputs": [],
   "source": [
    "# pytorch提供了某些领域特定的库，Text Vision Audio 其中都包含数据集\n",
    "# 本教程介绍如何使用一个Vision的数据集\n",
    "# datasets模块包含现实世界视觉数据的数据集 (https://pytorch.org/vision/stable/datasets.html?spm=a2c6h.12873639.article-detail.34.423a18baLTdMlS)\n",
    "\n",
    "\n",
    "\n"
   ]
  }
 ],
 "metadata": {
  "kernelspec": {
   "display_name": "Python 3",
   "language": "python",
   "name": "python3"
  },
  "language_info": {
   "codemirror_mode": {
    "name": "ipython",
    "version": 3
   },
   "file_extension": ".py",
   "mimetype": "text/x-python",
   "name": "python",
   "nbconvert_exporter": "python",
   "pygments_lexer": "ipython3",
   "version": "3.11.8"
  }
 },
 "nbformat": 4,
 "nbformat_minor": 2
}
