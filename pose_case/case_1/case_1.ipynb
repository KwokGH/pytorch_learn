{
 "cells": [
  {
   "cell_type": "code",
   "execution_count": 41,
   "metadata": {},
   "outputs": [
    {
     "name": "stdout",
     "output_type": "stream",
     "text": [
      "[[ 1.]\n",
      " [ 1.]\n",
      " [ 1.]\n",
      " ...\n",
      " [10.]\n",
      " [10.]\n",
      " [10.]]\n"
     ]
    },
    {
     "ename": "AttributeError",
     "evalue": "'numpy.ndarray' object has no attribute 'items'",
     "output_type": "error",
     "traceback": [
      "\u001b[1;31m---------------------------------------------------------------------------\u001b[0m",
      "\u001b[1;31mAttributeError\u001b[0m                            Traceback (most recent call last)",
      "Cell \u001b[1;32mIn[41], line 83\u001b[0m\n\u001b[0;32m     81\u001b[0m \u001b[38;5;28mprint\u001b[39m(cloth_list)\n\u001b[0;32m     82\u001b[0m class_dict \u001b[38;5;241m=\u001b[39m {}\n\u001b[1;32m---> 83\u001b[0m \u001b[38;5;28;01mfor\u001b[39;00m keyName,index \u001b[38;5;129;01min\u001b[39;00m \u001b[43mcloth_list\u001b[49m\u001b[38;5;241;43m.\u001b[39;49m\u001b[43mitems\u001b[49m():\n\u001b[0;32m     84\u001b[0m     class_dict[index] \u001b[38;5;241m=\u001b[39m keyName\n",
      "\u001b[1;31mAttributeError\u001b[0m: 'numpy.ndarray' object has no attribute 'items'"
     ]
    }
   ],
   "source": [
    "device = torch.device('cuda' if torch.cuda.is_available() else 'cuda') # 设备\n",
    "\n",
    "class ActionDataset(Dataset):\n",
    "    \"\"\"Action dataset.\"\"\"\n",
    "\n",
    "    def __init__(self,  root_dir, labels=[], transform=None):\n",
    "        \"\"\"\n",
    "        Args:\n",
    "            root_dir (string): 整个数据的路径。\n",
    "            labels(list): 图片的标签。\n",
    "            transform (callable, optional): 想要对数据进行的处理函数。\n",
    "        \"\"\"\n",
    "        self.root_dir = root_dir\n",
    "        self.transform = transform\n",
    "        self.length=len(os.listdir(self.root_dir))\n",
    "        self.labels=labels\n",
    "\n",
    "    def __len__(self):      # 该方法只需返回数据的数量。\n",
    "        return self.length*3    # 因为每个视频片段都包含3帧。\n",
    "\n",
    "    def __getitem__(self, idx):     # 该方法需要返回一个数据。\n",
    "        folder=idx//3+1\n",
    "        imidx=idx%3+1\n",
    "        folder=format(folder,'05d')\n",
    "        imgname=str(imidx)+'.jpg'\n",
    "        img_path = os.path.join(self.root_dir,folder,imgname)\n",
    "        image = Image.open(img_path)\n",
    "\n",
    "        if len(self.labels)!=0:\n",
    "            Label=self.labels[idx//3][0]-1\n",
    "        if self.transform:      # 如果要先对数据进行预处理，则经过transform函数。\n",
    "            image = self.transform(image)\n",
    "        if len(self.labels)!=0:\n",
    "            sample={'image':image,'img_path':img_path,'Label':Label}\n",
    "        else:\n",
    "            sample={'image':image,'img_path':img_path}\n",
    "        return sample\n",
    "\n",
    "class LeNet5(nn.Module):\n",
    "    def __init__(self,num_class=10):\n",
    "        super(LeNet5,self).__init__()\n",
    "        self.conv1 = nn.Conv2d(3, 8, 5)\n",
    "        self.pool1 = nn.AvgPool2d((2, 2))\n",
    "        \n",
    "        self.conv2 = nn.Conv2d(8, 16, 5)\n",
    "        self.pool2 = nn.AvgPool2d((2, 2))\n",
    "        \n",
    "        self.conv3 = nn.Conv2d(16, 32, 5)\n",
    "        \n",
    "        self.relu = nn.ReLU()\n",
    "\n",
    "        self.fc1 = nn.Linear(2592, 1024)\n",
    "        self.fc2 = nn.Linear(1024, num_class)\n",
    "        \n",
    "    def forward(self, x):\n",
    "        # x: torch.Size([32, 3, 64, 64])\n",
    "        \n",
    "        x = self.conv1(x) # torch.Size([32, 8, 60, 60])\n",
    "        x = self.relu(x)\n",
    "        x = self.pool1(x) # torch.Size([32, 8, 30, 30])\n",
    "\n",
    "        x = self.conv2(x) # torch.Size([32, 16, 26, 26])\n",
    "        x = self.relu(x)\n",
    "        x = self.pool2(x) # torch.Size([32, 16, 13, 13])\n",
    "\n",
    "        x = self.conv3(x) # torch.Size([32, 32, 9, 9])\n",
    "        x = self.relu(x)\n",
    "        \n",
    "        x = x.flatten(start_dim=1) # torch.Size([32, 2592])\n",
    "        \n",
    "        x = self.fc1(x) # torch.Size([32, 1024])\n",
    "        x = self.relu(x)\n",
    "        x = self.fc2(x) # torch.Size([32, 10])\n",
    "\n",
    "        return x\n",
    "    \n",
    "train_dataset = ActionDataset(root_dir=root_path+'/trainClips/', labels=label_train, transform=T.ToTensor())\n",
    "\n",
    "train_loader = DataLoader(train_dataset, batch_size=batch_size, shuffle=True)\n",
    "cloth_list = train_dataset.labels\n",
    "print(cloth_list)\n",
    "class_dict = {}\n",
    "for keyName,index in cloth_list:\n",
    "    class_dict[index] = keyName"
   ]
  },
  {
   "cell_type": "code",
   "execution_count": 51,
   "metadata": {},
   "outputs": [
    {
     "name": "stdout",
     "output_type": "stream",
     "text": [
      "train len： 7770\n"
     ]
    },
    {
     "name": "stderr",
     "output_type": "stream",
     "text": [
      "train epoch[1/5] loss:2.304:   0%|          | 1/729 [00:00<04:54,  2.48it/s]"
     ]
    },
    {
     "name": "stdout",
     "output_type": "stream",
     "text": [
      "111 tensor([6, 4, 6, 6, 6, 4, 6, 6, 6, 6, 6, 4, 6, 6, 6, 6, 6, 6, 6, 4, 6, 6, 6, 6,\n",
      "        6, 6, 6, 6, 4, 6, 6, 6], device='cuda:0') tensor([7., 6., 1., 1., 3., 4., 5., 8., 1., 7., 1., 0., 5., 8., 5., 3., 9., 6.,\n",
      "        3., 7., 9., 8., 0., 7., 7., 6., 4., 9., 2., 2., 5., 2.],\n",
      "       device='cuda:0', dtype=torch.float64)\n"
     ]
    },
    {
     "name": "stderr",
     "output_type": "stream",
     "text": [
      "train epoch[1/5] loss:2.296:   0%|          | 2/729 [00:00<05:11,  2.34it/s]"
     ]
    },
    {
     "name": "stdout",
     "output_type": "stream",
     "text": [
      "111 tensor([7, 7, 7, 7, 7, 7, 7, 7, 7, 7, 7, 7, 7, 7, 7, 7, 7, 7, 7, 7, 7, 7, 7, 7,\n",
      "        7, 7, 7, 7, 7, 7, 7, 7], device='cuda:0') tensor([1., 1., 5., 6., 5., 8., 9., 6., 9., 8., 9., 0., 8., 1., 7., 2., 0., 5.,\n",
      "        2., 2., 1., 8., 7., 0., 3., 6., 5., 4., 2., 5., 3., 6.],\n",
      "       device='cuda:0', dtype=torch.float64)\n"
     ]
    },
    {
     "name": "stderr",
     "output_type": "stream",
     "text": [
      "train epoch[1/5] loss:2.272:   0%|          | 3/729 [00:01<05:05,  2.37it/s]"
     ]
    },
    {
     "name": "stdout",
     "output_type": "stream",
     "text": [
      "111 tensor([5, 5, 5, 5, 5, 5, 5, 5, 5, 5, 5, 5, 5, 5, 5, 5, 5, 5, 5, 5, 5, 5, 5, 5,\n",
      "        5, 5, 5, 5, 5, 5, 5, 5], device='cuda:0') tensor([8., 9., 2., 5., 5., 0., 5., 5., 1., 3., 7., 9., 3., 2., 3., 8., 1., 5.,\n",
      "        3., 8., 0., 8., 9., 1., 0., 3., 4., 3., 5., 8., 8., 8.],\n",
      "       device='cuda:0', dtype=torch.float64)\n"
     ]
    },
    {
     "name": "stderr",
     "output_type": "stream",
     "text": [
      "train epoch[1/5] loss:2.382:   1%|          | 4/729 [00:01<04:47,  2.52it/s]"
     ]
    },
    {
     "name": "stdout",
     "output_type": "stream",
     "text": [
      "111 tensor([5, 5, 5, 5, 5, 5, 5, 5, 5, 5, 5, 5, 5, 5, 5, 5, 5, 5, 5, 5, 5, 5, 5, 5,\n",
      "        5, 5, 5, 5, 5, 5, 5, 5], device='cuda:0') tensor([1., 4., 3., 3., 0., 7., 5., 7., 7., 1., 8., 9., 4., 2., 3., 2., 3., 1.,\n",
      "        4., 8., 8., 5., 4., 1., 3., 0., 9., 2., 5., 9., 3., 1.],\n",
      "       device='cuda:0', dtype=torch.float64)\n"
     ]
    },
    {
     "name": "stderr",
     "output_type": "stream",
     "text": [
      "train epoch[1/5] loss:2.304:   1%|          | 5/729 [00:01<04:36,  2.62it/s]"
     ]
    },
    {
     "name": "stdout",
     "output_type": "stream",
     "text": [
      "111 tensor([8, 8, 8, 8, 8, 8, 8, 8, 8, 8, 8, 8, 8, 8, 8, 8, 8, 8, 8, 8, 8, 8, 8, 8,\n",
      "        8, 8, 8, 8, 8, 8, 8, 8], device='cuda:0') tensor([9., 1., 6., 5., 5., 1., 5., 9., 7., 1., 7., 3., 0., 0., 1., 4., 0., 7.,\n",
      "        3., 3., 5., 2., 0., 5., 1., 3., 4., 1., 6., 0., 2., 3.],\n",
      "       device='cuda:0', dtype=torch.float64)\n"
     ]
    },
    {
     "name": "stderr",
     "output_type": "stream",
     "text": [
      "train epoch[1/5] loss:2.318:   1%|          | 6/729 [00:02<04:19,  2.79it/s]"
     ]
    },
    {
     "name": "stdout",
     "output_type": "stream",
     "text": [
      "111 tensor([3, 3, 3, 3, 3, 3, 3, 1, 3, 3, 3, 3, 3, 1, 3, 3, 3, 3, 3, 1, 3, 3, 3, 3,\n",
      "        3, 3, 3, 3, 3, 3, 1, 3], device='cuda:0') tensor([8., 6., 1., 5., 7., 0., 0., 9., 5., 7., 1., 3., 1., 9., 7., 7., 8., 1.,\n",
      "        3., 6., 7., 1., 6., 3., 6., 8., 8., 4., 6., 2., 6., 3.],\n",
      "       device='cuda:0', dtype=torch.float64)\n"
     ]
    },
    {
     "name": "stderr",
     "output_type": "stream",
     "text": [
      "train epoch[1/5] loss:2.319:   1%|          | 7/729 [00:02<04:18,  2.80it/s]"
     ]
    },
    {
     "name": "stdout",
     "output_type": "stream",
     "text": [
      "111 tensor([3, 3, 3, 3, 3, 3, 3, 3, 3, 3, 3, 3, 3, 3, 3, 3, 3, 3, 3, 3, 3, 3, 3, 3,\n",
      "        3, 3, 3, 3, 3, 3, 3, 3], device='cuda:0') tensor([4., 3., 9., 0., 0., 7., 6., 0., 6., 1., 2., 5., 6., 4., 9., 0., 8., 7.,\n",
      "        3., 9., 7., 9., 2., 2., 1., 3., 9., 7., 5., 2., 8., 7.],\n",
      "       device='cuda:0', dtype=torch.float64)\n"
     ]
    },
    {
     "name": "stderr",
     "output_type": "stream",
     "text": [
      "train epoch[1/5] loss:2.276:   1%|          | 8/729 [00:03<04:21,  2.75it/s]"
     ]
    },
    {
     "name": "stdout",
     "output_type": "stream",
     "text": [
      "111 tensor([3, 3, 3, 3, 3, 3, 3, 3, 3, 3, 3, 3, 3, 3, 3, 3, 3, 3, 3, 3, 3, 3, 3, 3,\n",
      "        3, 3, 3, 3, 3, 3, 3, 3], device='cuda:0') tensor([0., 0., 5., 9., 7., 7., 5., 2., 1., 0., 0., 5., 3., 4., 4., 3., 7., 1.,\n",
      "        3., 9., 3., 7., 4., 0., 7., 1., 1., 9., 9., 3., 4., 7.],\n",
      "       device='cuda:0', dtype=torch.float64)\n"
     ]
    },
    {
     "name": "stderr",
     "output_type": "stream",
     "text": [
      "train epoch[1/5] loss:2.303:   1%|          | 9/729 [00:03<05:10,  2.32it/s]"
     ]
    },
    {
     "name": "stdout",
     "output_type": "stream",
     "text": [
      "111 tensor([5, 3, 3, 3, 3, 3, 3, 3, 3, 3, 3, 3, 3, 3, 3, 3, 3, 3, 7, 3, 3, 3, 3, 3,\n",
      "        3, 3, 3, 3, 3, 3, 3, 3], device='cuda:0') tensor([4., 8., 6., 6., 2., 6., 9., 8., 8., 1., 4., 0., 2., 9., 0., 6., 3., 1.,\n",
      "        1., 8., 2., 0., 0., 0., 5., 0., 3., 6., 5., 3., 4., 2.],\n",
      "       device='cuda:0', dtype=torch.float64)\n"
     ]
    },
    {
     "name": "stderr",
     "output_type": "stream",
     "text": [
      "train epoch[1/5] loss:2.283:   1%|▏         | 10/729 [00:04<04:52,  2.46it/s]"
     ]
    },
    {
     "name": "stdout",
     "output_type": "stream",
     "text": [
      "111 tensor([3, 3, 3, 3, 3, 3, 3, 7, 3, 7, 3, 3, 3, 3, 3, 3, 3, 3, 3, 3, 3, 3, 3, 3,\n",
      "        3, 3, 3, 3, 3, 7, 3, 3], device='cuda:0') tensor([5., 4., 9., 8., 1., 6., 4., 6., 9., 7., 4., 5., 3., 2., 3., 0., 0., 1.,\n",
      "        8., 8., 5., 3., 2., 0., 0., 0., 8., 6., 9., 0., 0., 0.],\n",
      "       device='cuda:0', dtype=torch.float64)\n"
     ]
    },
    {
     "name": "stderr",
     "output_type": "stream",
     "text": [
      "\n"
     ]
    },
    {
     "ename": "KeyboardInterrupt",
     "evalue": "",
     "output_type": "error",
     "traceback": [
      "\u001b[1;31m---------------------------------------------------------------------------\u001b[0m",
      "\u001b[1;31mKeyboardInterrupt\u001b[0m                         Traceback (most recent call last)",
      "Cell \u001b[1;32mIn[51], line 50\u001b[0m\n\u001b[0;32m     48\u001b[0m train_count \u001b[38;5;241m=\u001b[39m \u001b[38;5;241m0\u001b[39m  \u001b[38;5;66;03m# 用于计算总的样本数，方便求准确率\u001b[39;00m\n\u001b[0;32m     49\u001b[0m train_bar \u001b[38;5;241m=\u001b[39m tqdm(train_loader)\n\u001b[1;32m---> 50\u001b[0m \u001b[38;5;28;01mfor\u001b[39;00m data \u001b[38;5;129;01min\u001b[39;00m train_bar:\n\u001b[0;32m     51\u001b[0m     images, labels \u001b[38;5;241m=\u001b[39m data[\u001b[38;5;124m'\u001b[39m\u001b[38;5;124mimage\u001b[39m\u001b[38;5;124m'\u001b[39m], data[\u001b[38;5;124m'\u001b[39m\u001b[38;5;124mLabel\u001b[39m\u001b[38;5;124m'\u001b[39m]\n\u001b[0;32m     52\u001b[0m     optimizer\u001b[38;5;241m.\u001b[39mzero_grad()\n",
      "File \u001b[1;32md:\\soft\\Python311\\Lib\\site-packages\\tqdm\\std.py:1181\u001b[0m, in \u001b[0;36mtqdm.__iter__\u001b[1;34m(self)\u001b[0m\n\u001b[0;32m   1178\u001b[0m time \u001b[38;5;241m=\u001b[39m \u001b[38;5;28mself\u001b[39m\u001b[38;5;241m.\u001b[39m_time\n\u001b[0;32m   1180\u001b[0m \u001b[38;5;28;01mtry\u001b[39;00m:\n\u001b[1;32m-> 1181\u001b[0m     \u001b[38;5;28;01mfor\u001b[39;00m obj \u001b[38;5;129;01min\u001b[39;00m iterable:\n\u001b[0;32m   1182\u001b[0m         \u001b[38;5;28;01myield\u001b[39;00m obj\n\u001b[0;32m   1183\u001b[0m         \u001b[38;5;66;03m# Update and possibly print the progressbar.\u001b[39;00m\n\u001b[0;32m   1184\u001b[0m         \u001b[38;5;66;03m# Note: does not call self.update(1) for speed optimisation.\u001b[39;00m\n",
      "File \u001b[1;32md:\\soft\\Python311\\Lib\\site-packages\\torch\\utils\\data\\dataloader.py:631\u001b[0m, in \u001b[0;36m_BaseDataLoaderIter.__next__\u001b[1;34m(self)\u001b[0m\n\u001b[0;32m    628\u001b[0m \u001b[38;5;28;01mif\u001b[39;00m \u001b[38;5;28mself\u001b[39m\u001b[38;5;241m.\u001b[39m_sampler_iter \u001b[38;5;129;01mis\u001b[39;00m \u001b[38;5;28;01mNone\u001b[39;00m:\n\u001b[0;32m    629\u001b[0m     \u001b[38;5;66;03m# TODO(https://github.com/pytorch/pytorch/issues/76750)\u001b[39;00m\n\u001b[0;32m    630\u001b[0m     \u001b[38;5;28mself\u001b[39m\u001b[38;5;241m.\u001b[39m_reset()  \u001b[38;5;66;03m# type: ignore[call-arg]\u001b[39;00m\n\u001b[1;32m--> 631\u001b[0m data \u001b[38;5;241m=\u001b[39m \u001b[38;5;28;43mself\u001b[39;49m\u001b[38;5;241;43m.\u001b[39;49m\u001b[43m_next_data\u001b[49m\u001b[43m(\u001b[49m\u001b[43m)\u001b[49m\n\u001b[0;32m    632\u001b[0m \u001b[38;5;28mself\u001b[39m\u001b[38;5;241m.\u001b[39m_num_yielded \u001b[38;5;241m+\u001b[39m\u001b[38;5;241m=\u001b[39m \u001b[38;5;241m1\u001b[39m\n\u001b[0;32m    633\u001b[0m \u001b[38;5;28;01mif\u001b[39;00m \u001b[38;5;28mself\u001b[39m\u001b[38;5;241m.\u001b[39m_dataset_kind \u001b[38;5;241m==\u001b[39m _DatasetKind\u001b[38;5;241m.\u001b[39mIterable \u001b[38;5;129;01mand\u001b[39;00m \\\n\u001b[0;32m    634\u001b[0m         \u001b[38;5;28mself\u001b[39m\u001b[38;5;241m.\u001b[39m_IterableDataset_len_called \u001b[38;5;129;01mis\u001b[39;00m \u001b[38;5;129;01mnot\u001b[39;00m \u001b[38;5;28;01mNone\u001b[39;00m \u001b[38;5;129;01mand\u001b[39;00m \\\n\u001b[0;32m    635\u001b[0m         \u001b[38;5;28mself\u001b[39m\u001b[38;5;241m.\u001b[39m_num_yielded \u001b[38;5;241m>\u001b[39m \u001b[38;5;28mself\u001b[39m\u001b[38;5;241m.\u001b[39m_IterableDataset_len_called:\n",
      "File \u001b[1;32md:\\soft\\Python311\\Lib\\site-packages\\torch\\utils\\data\\dataloader.py:675\u001b[0m, in \u001b[0;36m_SingleProcessDataLoaderIter._next_data\u001b[1;34m(self)\u001b[0m\n\u001b[0;32m    673\u001b[0m \u001b[38;5;28;01mdef\u001b[39;00m \u001b[38;5;21m_next_data\u001b[39m(\u001b[38;5;28mself\u001b[39m):\n\u001b[0;32m    674\u001b[0m     index \u001b[38;5;241m=\u001b[39m \u001b[38;5;28mself\u001b[39m\u001b[38;5;241m.\u001b[39m_next_index()  \u001b[38;5;66;03m# may raise StopIteration\u001b[39;00m\n\u001b[1;32m--> 675\u001b[0m     data \u001b[38;5;241m=\u001b[39m \u001b[38;5;28;43mself\u001b[39;49m\u001b[38;5;241;43m.\u001b[39;49m\u001b[43m_dataset_fetcher\u001b[49m\u001b[38;5;241;43m.\u001b[39;49m\u001b[43mfetch\u001b[49m\u001b[43m(\u001b[49m\u001b[43mindex\u001b[49m\u001b[43m)\u001b[49m  \u001b[38;5;66;03m# may raise StopIteration\u001b[39;00m\n\u001b[0;32m    676\u001b[0m     \u001b[38;5;28;01mif\u001b[39;00m \u001b[38;5;28mself\u001b[39m\u001b[38;5;241m.\u001b[39m_pin_memory:\n\u001b[0;32m    677\u001b[0m         data \u001b[38;5;241m=\u001b[39m _utils\u001b[38;5;241m.\u001b[39mpin_memory\u001b[38;5;241m.\u001b[39mpin_memory(data, \u001b[38;5;28mself\u001b[39m\u001b[38;5;241m.\u001b[39m_pin_memory_device)\n",
      "File \u001b[1;32md:\\soft\\Python311\\Lib\\site-packages\\torch\\utils\\data\\_utils\\fetch.py:51\u001b[0m, in \u001b[0;36m_MapDatasetFetcher.fetch\u001b[1;34m(self, possibly_batched_index)\u001b[0m\n\u001b[0;32m     49\u001b[0m         data \u001b[38;5;241m=\u001b[39m \u001b[38;5;28mself\u001b[39m\u001b[38;5;241m.\u001b[39mdataset\u001b[38;5;241m.\u001b[39m__getitems__(possibly_batched_index)\n\u001b[0;32m     50\u001b[0m     \u001b[38;5;28;01melse\u001b[39;00m:\n\u001b[1;32m---> 51\u001b[0m         data \u001b[38;5;241m=\u001b[39m \u001b[43m[\u001b[49m\u001b[38;5;28;43mself\u001b[39;49m\u001b[38;5;241;43m.\u001b[39;49m\u001b[43mdataset\u001b[49m\u001b[43m[\u001b[49m\u001b[43midx\u001b[49m\u001b[43m]\u001b[49m\u001b[43m \u001b[49m\u001b[38;5;28;43;01mfor\u001b[39;49;00m\u001b[43m \u001b[49m\u001b[43midx\u001b[49m\u001b[43m \u001b[49m\u001b[38;5;129;43;01min\u001b[39;49;00m\u001b[43m \u001b[49m\u001b[43mpossibly_batched_index\u001b[49m\u001b[43m]\u001b[49m\n\u001b[0;32m     52\u001b[0m \u001b[38;5;28;01melse\u001b[39;00m:\n\u001b[0;32m     53\u001b[0m     data \u001b[38;5;241m=\u001b[39m \u001b[38;5;28mself\u001b[39m\u001b[38;5;241m.\u001b[39mdataset[possibly_batched_index]\n",
      "File \u001b[1;32md:\\soft\\Python311\\Lib\\site-packages\\torch\\utils\\data\\_utils\\fetch.py:51\u001b[0m, in \u001b[0;36m<listcomp>\u001b[1;34m(.0)\u001b[0m\n\u001b[0;32m     49\u001b[0m         data \u001b[38;5;241m=\u001b[39m \u001b[38;5;28mself\u001b[39m\u001b[38;5;241m.\u001b[39mdataset\u001b[38;5;241m.\u001b[39m__getitems__(possibly_batched_index)\n\u001b[0;32m     50\u001b[0m     \u001b[38;5;28;01melse\u001b[39;00m:\n\u001b[1;32m---> 51\u001b[0m         data \u001b[38;5;241m=\u001b[39m [\u001b[38;5;28;43mself\u001b[39;49m\u001b[38;5;241;43m.\u001b[39;49m\u001b[43mdataset\u001b[49m\u001b[43m[\u001b[49m\u001b[43midx\u001b[49m\u001b[43m]\u001b[49m \u001b[38;5;28;01mfor\u001b[39;00m idx \u001b[38;5;129;01min\u001b[39;00m possibly_batched_index]\n\u001b[0;32m     52\u001b[0m \u001b[38;5;28;01melse\u001b[39;00m:\n\u001b[0;32m     53\u001b[0m     data \u001b[38;5;241m=\u001b[39m \u001b[38;5;28mself\u001b[39m\u001b[38;5;241m.\u001b[39mdataset[possibly_batched_index]\n",
      "Cell \u001b[1;32mIn[41], line 27\u001b[0m, in \u001b[0;36mActionDataset.__getitem__\u001b[1;34m(self, idx)\u001b[0m\n\u001b[0;32m     25\u001b[0m imgname\u001b[38;5;241m=\u001b[39m\u001b[38;5;28mstr\u001b[39m(imidx)\u001b[38;5;241m+\u001b[39m\u001b[38;5;124m'\u001b[39m\u001b[38;5;124m.jpg\u001b[39m\u001b[38;5;124m'\u001b[39m\n\u001b[0;32m     26\u001b[0m img_path \u001b[38;5;241m=\u001b[39m os\u001b[38;5;241m.\u001b[39mpath\u001b[38;5;241m.\u001b[39mjoin(\u001b[38;5;28mself\u001b[39m\u001b[38;5;241m.\u001b[39mroot_dir,folder,imgname)\n\u001b[1;32m---> 27\u001b[0m image \u001b[38;5;241m=\u001b[39m \u001b[43mImage\u001b[49m\u001b[38;5;241;43m.\u001b[39;49m\u001b[43mopen\u001b[49m\u001b[43m(\u001b[49m\u001b[43mimg_path\u001b[49m\u001b[43m)\u001b[49m\n\u001b[0;32m     29\u001b[0m \u001b[38;5;28;01mif\u001b[39;00m \u001b[38;5;28mlen\u001b[39m(\u001b[38;5;28mself\u001b[39m\u001b[38;5;241m.\u001b[39mlabels)\u001b[38;5;241m!=\u001b[39m\u001b[38;5;241m0\u001b[39m:\n\u001b[0;32m     30\u001b[0m     Label\u001b[38;5;241m=\u001b[39m\u001b[38;5;28mself\u001b[39m\u001b[38;5;241m.\u001b[39mlabels[idx\u001b[38;5;241m/\u001b[39m\u001b[38;5;241m/\u001b[39m\u001b[38;5;241m3\u001b[39m][\u001b[38;5;241m0\u001b[39m]\u001b[38;5;241m-\u001b[39m\u001b[38;5;241m1\u001b[39m\n",
      "File \u001b[1;32md:\\soft\\Python311\\Lib\\site-packages\\PIL\\Image.py:3277\u001b[0m, in \u001b[0;36mopen\u001b[1;34m(fp, mode, formats)\u001b[0m\n\u001b[0;32m   3274\u001b[0m     filename \u001b[38;5;241m=\u001b[39m os\u001b[38;5;241m.\u001b[39mpath\u001b[38;5;241m.\u001b[39mrealpath(os\u001b[38;5;241m.\u001b[39mfspath(fp))\n\u001b[0;32m   3276\u001b[0m \u001b[38;5;28;01mif\u001b[39;00m filename:\n\u001b[1;32m-> 3277\u001b[0m     fp \u001b[38;5;241m=\u001b[39m builtins\u001b[38;5;241m.\u001b[39mopen(filename, \u001b[38;5;124m\"\u001b[39m\u001b[38;5;124mrb\u001b[39m\u001b[38;5;124m\"\u001b[39m)\n\u001b[0;32m   3278\u001b[0m     exclusive_fp \u001b[38;5;241m=\u001b[39m \u001b[38;5;28;01mTrue\u001b[39;00m\n\u001b[0;32m   3280\u001b[0m \u001b[38;5;28;01mtry\u001b[39;00m:\n",
      "\u001b[1;31mKeyboardInterrupt\u001b[0m: "
     ]
    }
   ],
   "source": [
    "# 视频分类模型\n",
    "import torch\n",
    "import torch.nn as nn\n",
    "import torch.optim as optim\n",
    "from torch.autograd import Variable\n",
    "from torch.utils.data import DataLoader,sampler,Dataset\n",
    "import torchvision.datasets as dset\n",
    "import torchvision.transforms as T\n",
    "import timeit\n",
    "from PIL import Image\n",
    "import os\n",
    "import numpy as np\n",
    "import scipy.io\n",
    "import torchvision.models.inception as inception\n",
    "from tqdm import tqdm\n",
    "\n",
    "# 模型输入参数，需要自己根据需要调整\n",
    "num_class = 10 # 分类数\n",
    "epochs = 5 # 迭代次数\n",
    "batch_size = 32 # 每个批次样本大小\n",
    "lr = 0.003 # 学习率\n",
    "root_path = '../../../data/case_1'\n",
    "save_path = root_path+'/best_model.pkl' # 模型保存路径\n",
    "\n",
    "\n",
    "label_mat=scipy.io.loadmat(root_path+'/q3_2_data.mat')\n",
    "label_train=label_mat['trLb']\n",
    "print('train len：',len(label_train))\n",
    "\n",
    "\n",
    "\n",
    "\n",
    "\n",
    "# 6.模型训练\n",
    "model = LeNet5(num_class)\n",
    "model = model.to(device)\n",
    "criterion = nn.CrossEntropyLoss() # 损失函数\n",
    "optimizer = torch.optim.Adam(model.parameters(), lr=lr) # 优化器\n",
    "\n",
    "best_acc = 0 # 最优精确率\n",
    "best_model = None # 最优模型参数\n",
    "\n",
    "for epoch in range(epochs):\n",
    "    model.train()\n",
    "    running_loss = 0 # 损失\n",
    "    epoch_acc = 0  # 每个epoch的准确率\n",
    "    epoch_acc_count = 0  # 每个epoch训练的样本数\n",
    "    train_count = 0  # 用于计算总的样本数，方便求准确率\n",
    "    train_bar = tqdm(train_loader)\n",
    "    for data in train_bar:\n",
    "        images, labels = data['image'], data['Label']\n",
    "        optimizer.zero_grad()\n",
    "        output = model(images.to(device))\n",
    "        loss = criterion(output, labels.long().to(device))\n",
    "        loss.backward()\n",
    "        optimizer.step()\n",
    "\n",
    "        running_loss += loss.item()\n",
    "        train_bar.desc = \"train epoch[{}/{}] loss:{:.3f}\".format(epoch + 1,\n",
    "                                                                 epochs,\n",
    "                                                                 loss)\n",
    "        # 计算每个epoch正确的个数\n",
    "        print(111,output.argmax(axis=1),labels.to(device).view(-1))\n",
    "        epoch_acc_count += (output.argmax(axis=1) == labels.to(device).view(-1)).sum()\n",
    "        train_count += len(images)\n",
    "\n",
    "    # 每个epoch对应的准确率\n",
    "    epoch_acc = epoch_acc_count / train_count\n",
    "\n",
    "    # 打印信息\n",
    "    print(\"【EPOCH: 】%s\" % str(epoch + 1))\n",
    "    print(\"训练损失为%s\" % str(running_loss))\n",
    "    print(\"训练精度为%s\" % (str(epoch_acc.item() * 100)[:5]) + '%')\n",
    "\n",
    "    if epoch_acc > best_acc:\n",
    "        best_acc = epoch_acc\n",
    "        best_model = model.state_dict()\n",
    "\n",
    "    # 在训练结束保存最优的模型参数\n",
    "    if epoch == epochs - 1:\n",
    "        # 保存模型\n",
    "        torch.save(best_model, save_path)\n",
    "\n",
    "print('Finished Training')\n",
    "\n"
   ]
  },
  {
   "cell_type": "code",
   "execution_count": 49,
   "metadata": {},
   "outputs": [
    {
     "data": {
      "image/png": "[encoded data removed]",
      "text/plain": [
       "<Figure size 640x480 with 1 Axes>"
      ]
     },
     "metadata": {},
     "output_type": "display_data"
    },
    {
     "name": "stdout",
     "output_type": "stream",
     "text": [
      "8\n"
     ]
    }
   ],
   "source": [
    "import pickle\n",
    "from torchvision import transforms,datasets\n",
    "import matplotlib.pyplot as plt\n",
    "import tensorflow as tf\n",
    "root_path = '../../../data/case_1'\n",
    "model_path = root_path+'/best_model.pkl'\n",
    "model = LeNet5().to(device)\n",
    "model.load_state_dict(torch.load(model_path))\n",
    "\n",
    "data_transform2 = transforms.Compose(\n",
    "    [\n",
    "        # transforms.Resize(32),\n",
    "        # transforms.CenterCrop(224),\n",
    "        transforms.ToTensor(),\n",
    "        # transforms.Normalize(mean=mean,std=std)\n",
    "    ]\n",
    ")\n",
    "# 将模型设置为评估模式\n",
    "model.eval()\n",
    "with torch.no_grad():\n",
    "    # 图片路径\n",
    "    test_image_path = root_path + '/valClips/00100/1.jpg'\n",
    "    # 打开图片\n",
    "    img = Image.open(test_image_path)\n",
    "    # 对图像转换\n",
    "    img = data_transform2(img)\n",
    "    plt.imshow(img.permute(1,2,0))\n",
    "    plt.show()\n",
    "    img = torch.unsqueeze(img,dim=0)\n",
    "    img = img.to(device)\n",
    "   \n",
    "    print(model(img).argmax(axis=1).item())\n",
    "        \n",
    "\n",
    "    # pred = train_dataset [model(img).argmax(axis=1).item()]\n",
    "    # print('[预测结果分类]: %s' %pred)\n",
    "\n"
   ]
  }
 ],
 "metadata": {
  "kernelspec": {
   "display_name": "Python 3",
   "language": "python",
   "name": "python3"
  },
  "language_info": {
   "codemirror_mode": {
    "name": "ipython",
    "version": 3
   },
   "file_extension": ".py",
   "mimetype": "text/x-python",
   "name": "python",
   "nbconvert_exporter": "python",
   "pygments_lexer": "ipython3",
   "version": "3.11.8"
  }
 },
 "nbformat": 4,
 "nbformat_minor": 2
}
